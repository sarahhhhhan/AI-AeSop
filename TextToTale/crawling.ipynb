{
 "cells": [
  {
   "cell_type": "code",
   "execution_count": 1,
   "id": "7f1e05a6",
   "metadata": {},
   "outputs": [],
   "source": [
    "import requests\n",
    "from bs4 import BeautifulSoup\n",
    "import pandas as pd\n",
    "from datetime import datetime\n",
    "import re"
   ]
  },
  {
   "cell_type": "code",
   "execution_count": 2,
   "id": "8510b42c",
   "metadata": {},
   "outputs": [],
   "source": [
    "def get_html(url) :\n",
    "    html = \"\"\n",
    "    resp = requests.get(url)\n",
    "\n",
    "    if resp.status_code == 200 :\n",
    "        html = resp.text\n",
    "\n",
    "    return html"
   ]
  },
  {
   "cell_type": "code",
   "execution_count": null,
   "id": "52cf9434",
   "metadata": {},
   "outputs": [],
   "source": [
    "from selenium import webdriver\n",
    "driver = webdriver.Chrome('C:/chromedriver.exe')\n",
    "#driver = webdriver.Firefox()\n",
    "driver.implicitly_wait(2) "
   ]
  },
  {
   "cell_type": "code",
   "execution_count": null,
   "id": "e3847cf8",
   "metadata": {},
   "outputs": [],
   "source": [
    "temp = []\n",
    "f = open(\"C:/Users/user/Desktop/새파일.txt\", 'w')\n",
    "for i in range(1,21):\n",
    "    driver.get(f\"http://18children.president.pa.go.kr/our_space/fairy_tales.php?srh%5Bcategory%5D=07&srh%5Bpage%5D={i}\")\n",
    "    driver.implicitly_wait(1)\n",
    "    for j in range(1,6):\n",
    "        driver.find_element_by_css_selector(f\"#content > div.real_cont > div.board_list > ul > li:nth-child({j}) > dl > dt > a\").click()\n",
    "        url = driver.current_url\n",
    "        html = get_html(url)\n",
    "        soup = BeautifulSoup(html, 'html.parser')\n",
    "        texts = soup.select_one('.content').get_text().strip().split('\\n')\n",
    "        texts = [x.replace(u'\\xa0', u' ') for x in texts]\n",
    "        texts = [text.replace('\\n','') for text in texts]\n",
    "        f = open(\"C:/Users/user/Desktop/새파일.txt\", 'a')\n",
    "        for text in texts:\n",
    "            f.write(text)\n",
    "        driver.back()\n",
    "        temp.append(texts)\n",
    "        driver.implicitly_wait(1)\n",
    "f.close()"
   ]
  }
 ],
 "metadata": {
  "kernelspec": {
   "display_name": "Python 3 (ipykernel)",
   "language": "python",
   "name": "python3"
  },
  "language_info": {
   "codemirror_mode": {
    "name": "ipython",
    "version": 3
   },
   "file_extension": ".py",
   "mimetype": "text/x-python",
   "name": "python",
   "nbconvert_exporter": "python",
   "pygments_lexer": "ipython3",
   "version": "3.9.7"
  }
 },
 "nbformat": 4,
 "nbformat_minor": 5
}
